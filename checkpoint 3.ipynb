{
 "cells": [
  {
   "cell_type": "code",
   "execution_count": null,
   "id": "1e812791-db81-42a6-80f9-bc299afb7450",
   "metadata": {},
   "outputs": [],
   "source": [
    "#question 1\n",
    "l=[]\n",
    "n=int(input('enter the list size: '))\n",
    "for i in range(0,n):\n",
    "    print('enter this positions variable',i,': ')\n",
    "    v=int(input())\n",
    "    l.append(v)\n",
    "a=1\n",
    "for z in range(l[n-1]):\n",
    "    z=a**z\n",
    "print(z)"
   ]
  },
  {
   "cell_type": "code",
   "execution_count": null,
   "id": "bd3538d6-6217-492e-bfd9-9f80eb3816ff",
   "metadata": {},
   "outputs": [],
   "source": [
    "#question 2\n",
    "l=[1.5,2.8,6.7,1.7,5.1]\n",
    "l.sort()\n",
    "print(l)"
   ]
  },
  {
   "cell_type": "code",
   "execution_count": null,
   "id": "9055c0dc-6769-477f-b95f-7499476f63ee",
   "metadata": {},
   "outputs": [],
   "source": [
    "#question 3\n",
    "a={\n",
    "    \"a\":int(450),\n",
    "    \"b\":int(500),\n",
    "    \"c\":int(815)\n",
    "}\n",
    "b={   \n",
    "    \"a\":int(756),\n",
    "    \"b\":int(318),\n",
    "    \"d\":int(135)\n",
    "}\n",
    "for key in b:\n",
    "    if key in a:\n",
    "        b[key] = b[key] + a[key]\n",
    "\n",
    "c = {**a, **b}\n",
    "print(c)"
   ]
  },
  {
   "cell_type": "code",
   "execution_count": null,
   "id": "238a31a6-052d-489a-8d4a-01339090d0ee",
   "metadata": {},
   "outputs": [],
   "source": [
    "#question 4\n",
    "n=(int(input('enter number: ')))\n",
    "dict={}\n",
    "for i in range(1,n+1):\n",
    "    o=i*i\n",
    "    dict[i]=o\n",
    "print(dict)"
   ]
  },
  {
   "cell_type": "code",
   "execution_count": null,
   "id": "3e73d3d5-7a4a-4356-89ff-32daeeb298cc",
   "metadata": {},
   "outputs": [],
   "source": [
    "#question 5\n",
    "l=[('i1','16.78'),('i2','84.15'),('i3','65.98')]\n",
    "print( sorted(l, key=lambda x: float(x[1])))"
   ]
  },
  {
   "cell_type": "code",
   "execution_count": null,
   "id": "63e2dd21-704c-4f41-9736-a51ae5cf8dda",
   "metadata": {},
   "outputs": [],
   "source": []
  }
 ],
 "metadata": {
  "kernelspec": {
   "display_name": "Python 3",
   "language": "python",
   "name": "python3"
  },
  "language_info": {
   "codemirror_mode": {
    "name": "ipython",
    "version": 3
   },
   "file_extension": ".py",
   "mimetype": "text/x-python",
   "name": "python",
   "nbconvert_exporter": "python",
   "pygments_lexer": "ipython3",
   "version": "3.8.8"
  }
 },
 "nbformat": 4,
 "nbformat_minor": 5
}
